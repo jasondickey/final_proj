{
 "cells": [
  {
   "cell_type": "code",
   "execution_count": 54,
   "metadata": {},
   "outputs": [],
   "source": [
    "from sklearn.linear_model import LogisticRegression\n",
    "from sklearn.model_selection import cross_validate\n",
    "from sklearn.multiclass import OneVsRestClassifier\n",
    "from sklearn.preprocessing import LabelEncoder\n",
    "from sklearn.svm import SVC\n",
    "from sklearn.feature_extraction.text import TfidfVectorizer\n",
    "\n",
    "import time\n",
    "import numpy as np \n",
    "import pandas as pd\n",
    "import seaborn as sns\n",
    "import matplotlib.pyplot as plt\n",
    "import matplotlib as mpl\n",
    "import os\n",
    "import gc"
   ]
  },
  {
   "cell_type": "code",
   "execution_count": 67,
   "metadata": {},
   "outputs": [
    {
     "name": "stdout",
     "output_type": "stream",
     "text": [
      "Training Data Shape:  (39774, 2)\n",
      "Testing Data Shape:  (1, 1)\n",
      "All Data Shape:  (39775, 1)\n"
     ]
    },
    {
     "data": {
      "text/html": [
       "<div>\n",
       "<style scoped>\n",
       "    .dataframe tbody tr th:only-of-type {\n",
       "        vertical-align: middle;\n",
       "    }\n",
       "\n",
       "    .dataframe tbody tr th {\n",
       "        vertical-align: top;\n",
       "    }\n",
       "\n",
       "    .dataframe thead th {\n",
       "        text-align: right;\n",
       "    }\n",
       "</style>\n",
       "<table border=\"1\" class=\"dataframe\">\n",
       "  <thead>\n",
       "    <tr style=\"text-align: right;\">\n",
       "      <th></th>\n",
       "      <th>ingredients</th>\n",
       "    </tr>\n",
       "    <tr>\n",
       "      <th>id</th>\n",
       "      <th></th>\n",
       "    </tr>\n",
       "  </thead>\n",
       "  <tbody>\n",
       "    <tr>\n",
       "      <th>10259</th>\n",
       "      <td>[romaine lettuce, black olives, grape tomatoes...</td>\n",
       "    </tr>\n",
       "    <tr>\n",
       "      <th>25693</th>\n",
       "      <td>[plain flour, ground pepper, salt, tomatoes, g...</td>\n",
       "    </tr>\n",
       "    <tr>\n",
       "      <th>20130</th>\n",
       "      <td>[eggs, pepper, salt, mayonaise, cooking oil, g...</td>\n",
       "    </tr>\n",
       "    <tr>\n",
       "      <th>22213</th>\n",
       "      <td>[water, vegetable oil, wheat, salt]</td>\n",
       "    </tr>\n",
       "    <tr>\n",
       "      <th>13162</th>\n",
       "      <td>[black pepper, shallots, cornflour, cayenne pe...</td>\n",
       "    </tr>\n",
       "  </tbody>\n",
       "</table>\n",
       "</div>"
      ],
      "text/plain": [
       "                                             ingredients\n",
       "id                                                      \n",
       "10259  [romaine lettuce, black olives, grape tomatoes...\n",
       "25693  [plain flour, ground pepper, salt, tomatoes, g...\n",
       "20130  [eggs, pepper, salt, mayonaise, cooking oil, g...\n",
       "22213                [water, vegetable oil, wheat, salt]\n",
       "13162  [black pepper, shallots, cornflour, cayenne pe..."
      ]
     },
     "execution_count": 67,
     "metadata": {},
     "output_type": "execute_result"
    }
   ],
   "source": [
    "#importing training and testing jsons\n",
    "debug = False\n",
    "train_df = pd.read_json('train.json').set_index('id')\n",
    "test_df = pd.read_json('test.json').set_index('id')\n",
    "if debug is True:\n",
    "    train_df = train_df.sample(100)\n",
    "    test_df = test_df.sample(100) \n",
    "traindex = train_df.index\n",
    "testdex = test_df.index  #proper indexing\n",
    "print(\"Training Data Shape: \",train_df.shape)\n",
    "print(\"Testing Data Shape: \", test_df.shape) #printing the shape of each dataset\n",
    "y = train_df.cuisine.copy()\n",
    "\n",
    "#Combining data for pre-processing\n",
    "df = pd.concat([train_df.drop(\"cuisine\", axis=1), test_df], axis=0)\n",
    "df_index = df.index\n",
    "print(\"All Data Shape: \", df.shape)\n",
    "del test_df; gc.collect();\n",
    "\n",
    "df.head()\n",
    "\n"
   ]
  },
  {
   "cell_type": "code",
   "execution_count": 68,
   "metadata": {},
   "outputs": [
    {
     "name": "stdout",
     "output_type": "stream",
     "text": [
      "Vocab Length:  6725\n",
      "All Data Shape:  (39775, 6725)\n",
      "Number of Predictors:  39775\n"
     ]
    }
   ],
   "source": [
    "#Ingredients are so important in for deciding cuisine type i split each ingredient into \n",
    "#its own variable, so the machine knows which ingredients are present\n",
    "from sklearn.feature_extraction.text import CountVectorizer\n",
    "vect = CountVectorizer(tokenizer=lambda x: [i.strip() for i in x.split(',')], lowercase=False)\n",
    "dummies = vect.fit_transform(df['ingredients'].apply(','.join)) \n",
    "\n",
    "\n",
    "df = pd.DataFrame(dummies.todense(),columns=vect.get_feature_names())\n",
    "print(\"Vocab Length: \", len(vect.get_feature_names()))\n",
    "print(\"All Data Shape: \", df.shape)\n",
    "df.index= df_index\n",
    "\n",
    "print(\"Number of Predictors: \", df.shape[0])\n"
   ]
  },
  {
   "cell_type": "code",
   "execution_count": 69,
   "metadata": {
    "scrolled": true
   },
   "outputs": [
    {
     "name": "stdout",
     "output_type": "stream",
     "text": [
      "Number of Cuisine Types:  20\n",
      "X Shape:  (39774, 6725)\n",
      "Test DF Shape:  (1, 6725)\n"
     ]
    }
   ],
   "source": [
    "#splitting the data back into train and test\n",
    "X = df.loc[traindex,:]\n",
    "print(\"Number of Cuisine Types: \", y.nunique())\n",
    "print(\"X Shape: \", X.shape)\n",
    "test_df = df.loc[testdex,:]\n",
    "print(\"Test DF Shape: \", test_df.shape)\n",
    "del df; gc.collect();"
   ]
  },
  {
   "cell_type": "code",
   "execution_count": 70,
   "metadata": {},
   "outputs": [
    {
     "data": {
      "text/plain": [
       "dict_keys(['C', 'class_weight', 'dual', 'fit_intercept', 'intercept_scaling', 'max_iter', 'multi_class', 'n_jobs', 'penalty', 'random_state', 'solver', 'tol', 'verbose', 'warm_start'])"
      ]
     },
     "execution_count": 70,
     "metadata": {},
     "output_type": "execute_result"
    }
   ],
   "source": [
    "#modelling uaing logisticregression\n",
    "LogisticRegression().get_params().keys()"
   ]
  },
  {
   "cell_type": "code",
   "execution_count": 71,
   "metadata": {},
   "outputs": [
    {
     "data": {
      "text/plain": [
       "0.7759346344549897"
      ]
     },
     "execution_count": 71,
     "metadata": {},
     "output_type": "execute_result"
    }
   ],
   "source": [
    "#calculating accuracy of predictions\n",
    "model = LogisticRegression(multi_class= 'ovr')\n",
    "score = cross_validate(model, X, y, return_train_score=False)\n",
    "score[\"test_score\"].mean()"
   ]
  },
  {
   "cell_type": "code",
   "execution_count": 72,
   "metadata": {},
   "outputs": [
    {
     "name": "stdout",
     "output_type": "stream",
     "text": [
      "id\n",
      "88009    mexican\n",
      "Name: cuisine, dtype: object\n"
     ]
    }
   ],
   "source": [
    "#pretty test id with predicted cuisine types + saving to a csv\n",
    "model.fit(X,y)\n",
    "final = model.predict(test_df)\n",
    "final_df = pd.Series(final, index=testdex).rename('cuisine')\n",
    "final_df.to_csv(\"completed_test.csv\", index=True, header=True)\n",
    "print(final_df.head())"
   ]
  },
  {
   "cell_type": "code",
   "execution_count": 8,
   "metadata": {},
   "outputs": [
    {
     "data": {
      "text/html": [
       "<script>requirejs.config({paths: { 'plotly': ['https://cdn.plot.ly/plotly-latest.min']},});if(!window.Plotly) {{require(['plotly'],function(plotly) {window.Plotly=plotly;});}}</script>"
      ],
      "text/vnd.plotly.v1+html": [
       "<script>requirejs.config({paths: { 'plotly': ['https://cdn.plot.ly/plotly-latest.min']},});if(!window.Plotly) {{require(['plotly'],function(plotly) {window.Plotly=plotly;});}}</script>"
      ]
     },
     "metadata": {},
     "output_type": "display_data"
    }
   ],
   "source": [
    "import plotly.graph_objs as go\n",
    "from plotly.offline import init_notebook_mode, iplot\n",
    "init_notebook_mode(connected=True)"
   ]
  },
  {
   "cell_type": "code",
   "execution_count": 9,
   "metadata": {},
   "outputs": [
    {
     "data": {
      "application/vnd.plotly.v1+json": {
       "data": [
        {
         "marker": {
          "color": [
           "rgba(221,160,221,1)",
           "rgba(169,169,169,1)",
           "rgba(255,160,122,1)",
           "rgba(176,224,230,1)",
           "rgba(169,169,169,1)",
           "rgba(255,160,122,1)",
           "rgba(176,224,230,1)",
           "rgba(188,143,143,1)",
           "rgba(221,160,221,1)",
           "rgba(169,169,169,1)",
           "rgba(255,160,122,1)",
           "rgba(176,224,230,1)",
           "rgba(189,183,107,1)",
           "rgba(188,143,143,1)",
           "rgba(221,160,221,1)",
           "rgba(169,169,169,1)",
           "rgba(255,160,122,1)",
           "rgba(176,224,230,1)",
           "rgba(169,169,169,1)",
           "rgba(255,160,122,1)"
          ]
         },
         "orientation": "h",
         "type": "bar",
         "uid": "4c8df25c-9b6f-11e8-abc1-8c8590ad4a76",
         "x": [
          1.1741338562880275,
          1.2294463720018103,
          1.3224719666113542,
          1.676974908231508,
          1.8982249710866397,
          2.0214210288127923,
          2.064162518227988,
          2.0742193392668575,
          2.0867903655654447,
          2.486549001860512,
          2.9541911801679492,
          3.5777140845778646,
          3.869361894705084,
          3.8869613315231053,
          6.652587117212249,
          6.720470659224619,
          7.550158394931363,
          10.861366721979183,
          16.186453462060644,
          19.70634082566501
         ],
         "y": [
          "brazilian",
          "russian",
          "jamaican",
          "irish",
          "filipino",
          "british",
          "moroccan",
          "vietnamese",
          "korean",
          "spanish",
          "greek",
          "japanese",
          "thai",
          "cajun_creole",
          "french",
          "chinese",
          "indian",
          "southern_us",
          "mexican",
          "italian"
         ]
        }
       ],
       "layout": {
        "margin": {
         "l": 200
        },
        "title": "Top cuisine with recipe count (%)",
        "xaxis": {
         "tickfont": {
          "size": 14
         },
         "title": "Recipe count"
        },
        "yaxis": {
         "tickfont": {
          "size": 14
         },
         "title": "Cuisine",
         "titlefont": {
          "size": 16
         }
        }
       }
      },
      "text/html": [
       "<div id=\"236298b0-ce2c-4cda-b7eb-30142a1faa42\" style=\"height: 525px; width: 100%;\" class=\"plotly-graph-div\"></div><script type=\"text/javascript\">require([\"plotly\"], function(Plotly) { window.PLOTLYENV=window.PLOTLYENV || {};window.PLOTLYENV.BASE_URL=\"https://plot.ly\";\n",
       "        Plotly.plot(\n",
       "            '236298b0-ce2c-4cda-b7eb-30142a1faa42',\n",
       "            [{\"marker\": {\"color\": [\"rgba(221,160,221,1)\", \"rgba(169,169,169,1)\", \"rgba(255,160,122,1)\", \"rgba(176,224,230,1)\", \"rgba(169,169,169,1)\", \"rgba(255,160,122,1)\", \"rgba(176,224,230,1)\", \"rgba(188,143,143,1)\", \"rgba(221,160,221,1)\", \"rgba(169,169,169,1)\", \"rgba(255,160,122,1)\", \"rgba(176,224,230,1)\", \"rgba(189,183,107,1)\", \"rgba(188,143,143,1)\", \"rgba(221,160,221,1)\", \"rgba(169,169,169,1)\", \"rgba(255,160,122,1)\", \"rgba(176,224,230,1)\", \"rgba(169,169,169,1)\", \"rgba(255,160,122,1)\"]}, \"orientation\": \"h\", \"x\": [1.1741338562880275, 1.2294463720018103, 1.3224719666113542, 1.676974908231508, 1.8982249710866397, 2.0214210288127923, 2.064162518227988, 2.0742193392668575, 2.0867903655654447, 2.486549001860512, 2.9541911801679492, 3.5777140845778646, 3.869361894705084, 3.8869613315231053, 6.652587117212249, 6.720470659224619, 7.550158394931363, 10.861366721979183, 16.186453462060644, 19.70634082566501], \"y\": [\"brazilian\", \"russian\", \"jamaican\", \"irish\", \"filipino\", \"british\", \"moroccan\", \"vietnamese\", \"korean\", \"spanish\", \"greek\", \"japanese\", \"thai\", \"cajun_creole\", \"french\", \"chinese\", \"indian\", \"southern_us\", \"mexican\", \"italian\"], \"type\": \"bar\", \"uid\": \"4c8df25c-9b6f-11e8-abc1-8c8590ad4a76\"}],\n",
       "            {\"margin\": {\"l\": 200}, \"title\": \"Top cuisine with recipe count (%)\", \"xaxis\": {\"tickfont\": {\"size\": 14}, \"title\": \"Recipe count\"}, \"yaxis\": {\"tickfont\": {\"size\": 14}, \"title\": \"Cuisine\", \"titlefont\": {\"size\": 16}}},\n",
       "            {\"showLink\": true, \"linkText\": \"Export to plot.ly\"}\n",
       "        ).then(function () {return Plotly.addFrames('236298b0-ce2c-4cda-b7eb-30142a1faa42',{});}).then(function(){Plotly.animate('236298b0-ce2c-4cda-b7eb-30142a1faa42');})\n",
       "        });</script>"
      ],
      "text/vnd.plotly.v1+html": [
       "<div id=\"236298b0-ce2c-4cda-b7eb-30142a1faa42\" style=\"height: 525px; width: 100%;\" class=\"plotly-graph-div\"></div><script type=\"text/javascript\">require([\"plotly\"], function(Plotly) { window.PLOTLYENV=window.PLOTLYENV || {};window.PLOTLYENV.BASE_URL=\"https://plot.ly\";\n",
       "        Plotly.plot(\n",
       "            '236298b0-ce2c-4cda-b7eb-30142a1faa42',\n",
       "            [{\"marker\": {\"color\": [\"rgba(221,160,221,1)\", \"rgba(169,169,169,1)\", \"rgba(255,160,122,1)\", \"rgba(176,224,230,1)\", \"rgba(169,169,169,1)\", \"rgba(255,160,122,1)\", \"rgba(176,224,230,1)\", \"rgba(188,143,143,1)\", \"rgba(221,160,221,1)\", \"rgba(169,169,169,1)\", \"rgba(255,160,122,1)\", \"rgba(176,224,230,1)\", \"rgba(189,183,107,1)\", \"rgba(188,143,143,1)\", \"rgba(221,160,221,1)\", \"rgba(169,169,169,1)\", \"rgba(255,160,122,1)\", \"rgba(176,224,230,1)\", \"rgba(169,169,169,1)\", \"rgba(255,160,122,1)\"]}, \"orientation\": \"h\", \"x\": [1.1741338562880275, 1.2294463720018103, 1.3224719666113542, 1.676974908231508, 1.8982249710866397, 2.0214210288127923, 2.064162518227988, 2.0742193392668575, 2.0867903655654447, 2.486549001860512, 2.9541911801679492, 3.5777140845778646, 3.869361894705084, 3.8869613315231053, 6.652587117212249, 6.720470659224619, 7.550158394931363, 10.861366721979183, 16.186453462060644, 19.70634082566501], \"y\": [\"brazilian\", \"russian\", \"jamaican\", \"irish\", \"filipino\", \"british\", \"moroccan\", \"vietnamese\", \"korean\", \"spanish\", \"greek\", \"japanese\", \"thai\", \"cajun_creole\", \"french\", \"chinese\", \"indian\", \"southern_us\", \"mexican\", \"italian\"], \"type\": \"bar\", \"uid\": \"4c8df25c-9b6f-11e8-abc1-8c8590ad4a76\"}],\n",
       "            {\"margin\": {\"l\": 200}, \"title\": \"Top cuisine with recipe count (%)\", \"xaxis\": {\"tickfont\": {\"size\": 14}, \"title\": \"Recipe count\"}, \"yaxis\": {\"tickfont\": {\"size\": 14}, \"title\": \"Cuisine\", \"titlefont\": {\"size\": 16}}},\n",
       "            {\"showLink\": true, \"linkText\": \"Export to plot.ly\"}\n",
       "        ).then(function () {return Plotly.addFrames('236298b0-ce2c-4cda-b7eb-30142a1faa42',{});}).then(function(){Plotly.animate('236298b0-ce2c-4cda-b7eb-30142a1faa42');})\n",
       "        });</script>"
      ]
     },
     "metadata": {},
     "output_type": "display_data"
    },
    {
     "data": {
      "text/html": [
       "<div>\n",
       "<style scoped>\n",
       "    .dataframe tbody tr th:only-of-type {\n",
       "        vertical-align: middle;\n",
       "    }\n",
       "\n",
       "    .dataframe tbody tr th {\n",
       "        vertical-align: top;\n",
       "    }\n",
       "\n",
       "    .dataframe thead th {\n",
       "        text-align: right;\n",
       "    }\n",
       "</style>\n",
       "<table border=\"1\" class=\"dataframe\">\n",
       "  <thead>\n",
       "    <tr style=\"text-align: right;\">\n",
       "      <th></th>\n",
       "      <th>cuisine</th>\n",
       "    </tr>\n",
       "  </thead>\n",
       "  <tbody>\n",
       "    <tr>\n",
       "      <th>italian</th>\n",
       "      <td>7838</td>\n",
       "    </tr>\n",
       "    <tr>\n",
       "      <th>mexican</th>\n",
       "      <td>6438</td>\n",
       "    </tr>\n",
       "    <tr>\n",
       "      <th>southern_us</th>\n",
       "      <td>4320</td>\n",
       "    </tr>\n",
       "    <tr>\n",
       "      <th>indian</th>\n",
       "      <td>3003</td>\n",
       "    </tr>\n",
       "    <tr>\n",
       "      <th>chinese</th>\n",
       "      <td>2673</td>\n",
       "    </tr>\n",
       "  </tbody>\n",
       "</table>\n",
       "</div>"
      ],
      "text/plain": [
       "             cuisine\n",
       "italian         7838\n",
       "mexican         6438\n",
       "southern_us     4320\n",
       "indian          3003\n",
       "chinese         2673"
      ]
     },
     "execution_count": 9,
     "metadata": {},
     "output_type": "execute_result"
    }
   ],
   "source": [
    "color_theme = dict(color = ['rgba(221,160,221,1)','rgba(169,169,169,1)','rgba(255,160,122,1)','rgba(176,224,230,1)','rgba(169,169,169,1)','rgba(255,160,122,1)','rgba(176,224,230,1)',\n",
    "                   'rgba(188,143,143,1)','rgba(221,160,221,1)','rgba(169,169,169,1)','rgba(255,160,122,1)','rgba(176,224,230,1)','rgba(189,183,107,1)','rgba(188,143,143,1)','rgba(221,160,221,1)','rgba(169,169,169,1)','rgba(255,160,122,1)','rgba(176,224,230,1)','rgba(169,169,169,1)','rgba(255,160,122,1)'])\n",
    "temp = train_df['cuisine'].value_counts()\n",
    "trace = go.Bar(y=temp.index[::-1],x=(temp / temp.sum() * 100)[::-1],orientation = 'h',marker=color_theme)\n",
    "layout = go.Layout(title = \"Top cuisine with recipe count (%)\",xaxis=dict(title='Recipe count',tickfont=dict(size=14,)),\n",
    "                   yaxis=dict(title='Cuisine',titlefont=dict(size=16),tickfont=dict(size=14)),margin=dict(l=200,))\n",
    "data = [trace]\n",
    "fig = go.Figure(data=data, layout=layout)\n",
    "iplot(fig,filename='basic-bar')\n",
    "temp = pd.DataFrame(temp)\n",
    "temp.head()"
   ]
  },
  {
   "cell_type": "code",
   "execution_count": 10,
   "metadata": {},
   "outputs": [
    {
     "data": {
      "application/vnd.plotly.v1+json": {
       "data": [
        {
         "hole": 0.4,
         "labels": [
          "italian",
          "mexican",
          "southern_us",
          "indian",
          "chinese",
          "french",
          "cajun_creole",
          "thai",
          "japanese",
          "greek",
          "spanish",
          "korean",
          "vietnamese",
          "moroccan",
          "british",
          "filipino",
          "irish",
          "jamaican",
          "russian",
          "brazilian"
         ],
         "type": "pie",
         "uid": "4d051986-9b6f-11e8-9071-8c8590ad4a76",
         "values": [
          19.70634082566501,
          16.186453462060644,
          10.861366721979183,
          7.550158394931363,
          6.720470659224619,
          6.652587117212249,
          3.8869613315231053,
          3.869361894705084,
          3.5777140845778646,
          2.9541911801679492,
          2.486549001860512,
          2.0867903655654447,
          2.0742193392668575,
          2.064162518227988,
          2.0214210288127923,
          1.8982249710866397,
          1.676974908231508,
          1.3224719666113542,
          1.2294463720018103,
          1.1741338562880275
         ]
        }
       ],
       "layout": {}
      },
      "text/html": [
       "<div id=\"4e15e8b0-e7c8-4caf-bbc7-c445cf4fd1a1\" style=\"height: 525px; width: 100%;\" class=\"plotly-graph-div\"></div><script type=\"text/javascript\">require([\"plotly\"], function(Plotly) { window.PLOTLYENV=window.PLOTLYENV || {};window.PLOTLYENV.BASE_URL=\"https://plot.ly\";Plotly.newPlot(\"4e15e8b0-e7c8-4caf-bbc7-c445cf4fd1a1\", [{\"hole\": 0.4, \"labels\": [\"italian\", \"mexican\", \"southern_us\", \"indian\", \"chinese\", \"french\", \"cajun_creole\", \"thai\", \"japanese\", \"greek\", \"spanish\", \"korean\", \"vietnamese\", \"moroccan\", \"british\", \"filipino\", \"irish\", \"jamaican\", \"russian\", \"brazilian\"], \"values\": [19.70634082566501, 16.186453462060644, 10.861366721979183, 7.550158394931363, 6.720470659224619, 6.652587117212249, 3.8869613315231053, 3.869361894705084, 3.5777140845778646, 2.9541911801679492, 2.486549001860512, 2.0867903655654447, 2.0742193392668575, 2.064162518227988, 2.0214210288127923, 1.8982249710866397, 1.676974908231508, 1.3224719666113542, 1.2294463720018103, 1.1741338562880275], \"type\": \"pie\", \"uid\": \"4d07b0ba-9b6f-11e8-9d04-8c8590ad4a76\"}], {}, {\"showLink\": true, \"linkText\": \"Export to plot.ly\"})});</script>"
      ],
      "text/vnd.plotly.v1+html": [
       "<div id=\"4e15e8b0-e7c8-4caf-bbc7-c445cf4fd1a1\" style=\"height: 525px; width: 100%;\" class=\"plotly-graph-div\"></div><script type=\"text/javascript\">require([\"plotly\"], function(Plotly) { window.PLOTLYENV=window.PLOTLYENV || {};window.PLOTLYENV.BASE_URL=\"https://plot.ly\";Plotly.newPlot(\"4e15e8b0-e7c8-4caf-bbc7-c445cf4fd1a1\", [{\"hole\": 0.4, \"labels\": [\"italian\", \"mexican\", \"southern_us\", \"indian\", \"chinese\", \"french\", \"cajun_creole\", \"thai\", \"japanese\", \"greek\", \"spanish\", \"korean\", \"vietnamese\", \"moroccan\", \"british\", \"filipino\", \"irish\", \"jamaican\", \"russian\", \"brazilian\"], \"values\": [19.70634082566501, 16.186453462060644, 10.861366721979183, 7.550158394931363, 6.720470659224619, 6.652587117212249, 3.8869613315231053, 3.869361894705084, 3.5777140845778646, 2.9541911801679492, 2.486549001860512, 2.0867903655654447, 2.0742193392668575, 2.064162518227988, 2.0214210288127923, 1.8982249710866397, 1.676974908231508, 1.3224719666113542, 1.2294463720018103, 1.1741338562880275], \"type\": \"pie\", \"uid\": \"4d07b0ba-9b6f-11e8-9d04-8c8590ad4a76\"}], {}, {\"showLink\": true, \"linkText\": \"Export to plot.ly\"})});</script>"
      ]
     },
     "metadata": {},
     "output_type": "display_data"
    }
   ],
   "source": [
    "labels = temp.index.tolist()\n",
    "values = (temp[\"cuisine\"]/temp[\"cuisine\"].sum())*100\n",
    "\n",
    "trace = go.Pie(labels=labels, values=values,hole = 0.4)\n",
    "\n",
    "iplot([trace], filename='basic_pie_chart')"
   ]
  },
  {
   "cell_type": "code",
   "execution_count": 11,
   "metadata": {},
   "outputs": [
    {
     "data": {
      "text/plain": [
       "Text(0.5,1,'Ingredients in a Dish Distribution')"
      ]
     },
     "execution_count": 11,
     "metadata": {},
     "output_type": "execute_result"
    },
    {
     "data": {
      "image/png": "[encoded data removed]",
      "text/plain": [
       "<matplotlib.figure.Figure at 0x1a13d053c8>"
      ]
     },
     "metadata": {},
     "output_type": "display_data"
    }
   ],
   "source": [
    "plt.hist(train_df['ingredients'].str.len(),bins=max(train_df['ingredients'].str.len()),edgecolor='b')\n",
    "plt.gcf().set_size_inches(16,8)\n",
    "plt.title('Ingredients in a Dish Distribution')"
   ]
  },
  {
   "cell_type": "code",
   "execution_count": 12,
   "metadata": {},
   "outputs": [],
   "source": [
    "import nltk\n",
    "from collections import Counter\n"
   ]
  },
  {
   "cell_type": "code",
   "execution_count": 13,
   "metadata": {},
   "outputs": [],
   "source": [
    "newtraindf = train_df\n",
    "newtraindf['seperated_ingredients'] = train_df['ingredients'].apply(','.join)"
   ]
  },
  {
   "cell_type": "code",
   "execution_count": 14,
   "metadata": {},
   "outputs": [
    {
     "data": {
      "image/png": "[encoded data removed]",
      "text/plain": [
       "<matplotlib.figure.Figure at 0x1a1518ca20>"
      ]
     },
     "metadata": {},
     "output_type": "display_data"
    }
   ],
   "source": [
    "newtraindf['for ngrams']=newtraindf['seperated_ingredients'].str.replace(',',' ')\n",
    "f,ax=plt.subplots(2,2,figsize=(20,20))\n",
    "def ingre_cusine(cuisine):\n",
    "    frame=train_df[newtraindf['cuisine']==cuisine]\n",
    "    common=list(nltk.bigrams(nltk.word_tokenize(\" \".join(frame['for ngrams']))))\n",
    "    return pd.DataFrame(Counter(common),index=['count']).T.sort_values('count',ascending=False)[:15]\n",
    "ingre_cusine('mexican').plot.barh(ax=ax[0,0],width=0.9,color='#45ff45')\n",
    "ax[0,0].set_title('Mexican Cuisine')\n",
    "ingre_cusine('indian').plot.barh(ax=ax[0,1],width=0.9,color='#df6dfd')\n",
    "ax[0,1].set_title('Indian Cuisine')\n",
    "ingre_cusine('italian').plot.barh(ax=ax[1,0],width=0.9,color='#fbca5f')\n",
    "ax[1,0].set_title('Italian Cuisine')\n",
    "ingre_cusine('chinese').plot.barh(ax=ax[1,1],width=0.9,color='#ffff00')\n",
    "ax[1,1].set_title('Chinese Cuisine')\n",
    "plt.subplots_adjust(wspace=0.5)"
   ]
  },
  {
   "cell_type": "code",
   "execution_count": null,
   "metadata": {},
   "outputs": [],
   "source": []
  },
  {
   "cell_type": "code",
   "execution_count": null,
   "metadata": {},
   "outputs": [],
   "source": []
  }
 ],
 "metadata": {
  "kernelspec": {
   "display_name": "Python [conda env:PythonData]",
   "language": "python",
   "name": "conda-env-PythonData-py"
  },
  "language_info": {
   "codemirror_mode": {
    "name": "ipython",
    "version": 3
   },
   "file_extension": ".py",
   "mimetype": "text/x-python",
   "name": "python",
   "nbconvert_exporter": "python",
   "pygments_lexer": "ipython3",
   "version": "3.6.4"
  }
 },
 "nbformat": 4,
 "nbformat_minor": 2
}
